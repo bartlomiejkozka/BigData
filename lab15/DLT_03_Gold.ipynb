{
 "cells": [
  {
   "cell_type": "code",
   "execution_count": 0,
   "metadata": {
    "application/vnd.databricks.v1+cell": {
     "cellMetadata": {},
     "inputWidgets": {},
     "nuid": "194b8949-e695-44e0-9543-26d479f16dbe",
     "showTitle": false,
     "tableResultSettingsMap": {},
     "title": ""
    }
   },
   "outputs": [],
   "source": [
    "import dlt\n",
    "from pyspark.sql.functions import col, hash, current_timestamp, lit\n",
    "from pyspark.sql import functions as F"
   ]
  },
  {
   "cell_type": "code",
   "execution_count": 0,
   "metadata": {
    "application/vnd.databricks.v1+cell": {
     "cellMetadata": {},
     "inputWidgets": {},
     "nuid": "cb373e99-5718-4235-99f2-674eb5021145",
     "showTitle": false,
     "tableResultSettingsMap": {},
     "title": ""
    }
   },
   "outputs": [],
   "source": [
    "param_environment = spark.conf.get(\"param_environment\", \"dev\")\n",
    "param_source_name = spark.conf.get(\"param_source_name\", \"\")\n",
    "schema = spark.conf.get(\"schema\", \"gold_schema\")\n",
    "param_scd_type = spark.conf.get(\"param_scd_type\", \"scd1\")\n",
    "silver_schema = spark.conf.get(\"silver_schema\")"
   ]
  },
  {
   "cell_type": "code",
   "execution_count": 0,
   "metadata": {
    "application/vnd.databricks.v1+cell": {
     "cellMetadata": {},
     "inputWidgets": {},
     "nuid": "b8d75834-b58e-44a5-978e-67704cb842e7",
     "showTitle": false,
     "tableResultSettingsMap": {},
     "title": ""
    }
   },
   "outputs": [],
   "source": [
    "schema = spark.conf.get(\"gold_schema\")\n",
    "\n",
    "@dlt.table(\n",
    "    name=f\"gold.{schema}.all_books\"\n",
    ")\n",
    "def get_all_books():\n",
    "    df = dlt.readStream(f\"{silver_schema}.{param_source_name}\")\n",
    "    df_all_books = (df\n",
    "        .select(col(\"ISBN10\").alias(\"International_Standard_Book_Number\"),\n",
    "                col(\"asin\").alias(\"Amazon_Standard_Identification_Number\"),\n",
    "                col(\"title\").alias(\"Title\"),\n",
    "                col(\"brand\").alias(\"Author\"),\n",
    "                col(\"availability\").alias(\"Availability\"),\n",
    "                col(\"currency\").alias(\"Currency\"),\n",
    "                col(\"discount\").alias(\"Discount\"),\n",
    "                col(\"final_price\").alias(\"Final_Price\"),\n",
    "                col(\"initial_price\").alias(\"Initial_Price\"),\n",
    "                col(\"rating_value\").alias(\"Rating\"),\n",
    "                col(\"reviews_count\").alias(\"Reviews_Count\"),\n",
    "                col(\"seller_name\").alias(\"Seller_Name\"),\n",
    "                col(\"item_weight\").alias(\"Item_Weight\"))\n",
    "        .filter(\"ISBN10 is not null\")).dropDuplicates()\n",
    "    return df_all_books"
   ]
  },
  {
   "cell_type": "code",
   "execution_count": 0,
   "metadata": {
    "application/vnd.databricks.v1+cell": {
     "cellMetadata": {},
     "inputWidgets": {},
     "nuid": "1e1d96a9-eb8b-4861-95f6-003330be616f",
     "showTitle": false,
     "tableResultSettingsMap": {},
     "title": ""
    }
   },
   "outputs": [],
   "source": [
    "@dlt.table(\n",
    "    name=f\"gold.{schema}.best_books\"\n",
    "    )\n",
    "def best_books():\n",
    "    df = dlt.readStream(f\"{silver_schema}.{param_source_name}\")\n",
    "    df_best_books = (\n",
    "        df.select(\n",
    "            col(\"title\").alias(\"Title\"),\n",
    "            col(\"brand\").alias(\"Author\"),\n",
    "            col(\"rating_value\").alias(\"Rating\"),\n",
    "            col(\"reviews_count\").alias(\"Reviews_Count\"),\n",
    "            col(\"final_price\").alias(\"Final_Price\")\n",
    "        )\n",
    "        .filter(col(\"rating_value\") >= 4.9)\n",
    "        .dropDuplicates()\n",
    "    )\n",
    "    return df_best_books"
   ]
  }
 ],
 "metadata": {
  "application/vnd.databricks.v1+notebook": {
   "computePreferences": null,
   "dashboards": [],
   "environmentMetadata": {
    "base_environment": "",
    "environment_version": "2"
   },
   "inputWidgetPreferences": null,
   "language": "python",
   "notebookMetadata": {
    "mostRecentlyExecutedCommandWithImplicitDF": {
     "commandId": 7413117619001968,
     "dataframes": [
      "_sqldf"
     ]
    },
    "pythonIndentUnit": 4
   },
   "notebookName": "DLT_03_Gold",
   "widgets": {}
  },
  "language_info": {
   "name": "python"
  }
 },
 "nbformat": 4,
 "nbformat_minor": 0
}