{
 "cells": [
  {
   "cell_type": "markdown",
   "id": "205e75bc",
   "metadata": {},
   "source": [
    "# Projekt Lakehouse na Azure – Szacunki i Analiza\n",
    "\n",
    "---\n",
    "\n",
    "## Zadanie 1 – Szacunkowy koszt roczny (Azure)\n",
    "\n",
    "### Założenia:\n",
    "- **Dane początkowe:** 10 TB\n",
    "- **Miesięczny przyrost:** 200 GB → **rocznie:** 2.4 TB\n",
    "- **Łącznie:** 12.4 TB\n",
    "\n",
    "### Koszt roczny usług (wg Azure Pricing Calculator):\n",
    "\n",
    "| Usługa             | Opis                                                                      | Koszt (USD / rok) |\n",
    "|--------------------|---------------------------------------------------------------------------|--------------------|\n",
    "| **Storage Account**| Azure Data Lake Gen2, 12.4 TB danych (hot, LRS)                          | ~$3,800            |\n",
    "| **Databricks**     | 1 cluster (16 DBU x 8h x 30 dni x 12 mies.)                              | ~$11,000           |\n",
    "| **Key Vault**      | 1 klucz HSM + 10k operacji miesięcznie                                   | ~$100              |\n",
    "| **Data Factory**   | 50 pipeline'ów dziennie, 10 kopiowań                                      | ~$1,200            |\n",
    "| **SQL Database**   | 2 vCore, 32 GB, General Purpose                                           | ~$1,300            |\n",
    "\n",
    "** SUMA: ~ $17,400 – $20,000 / rok**\n",
    "\n",
    "\n",
    "---\n",
    "\n",
    "##  Zadanie 2 – Delta Lake vs Iceberg\n",
    "\n",
    "| Cecha                       | **Delta Lake**                      | **Apache Iceberg**                 |\n",
    "|----------------------------|-------------------------------------|------------------------------------|\n",
    "| Wsparcie w Databricks      | Native                           |  Zewnętrzne                      |\n",
    "| ACID                       | Tak                              |  Tak                             |\n",
    "| Time travel                | Bardzo prosty                    |  Snapshot-based                  |\n",
    "| Evolucja schem             | Łatwa                            |  Manualna aktualizacja manifest |\n",
    "| Format                    | Parquet + Delta Log                | Parquet / Avro + Manifests        |\n",
    "| Streaming support          | Rozwinięty                       |  Ograniczony                     |\n",
    "| Społeczność                |  Szeroka (Databricks)             |  Rośnie (Netflix, Snowflake)    |\n",
    "| Użycie ze Sparkiem        |  Native                           |  Potrzebna integracja           |\n",
    "\n",
    "** Wniosek:**  \n",
    "Delta Lake – bezpieczny wybór na Databricks i Spark.  \n",
    "Iceberg – warto rozważyć przy vendor-neutral architecture.\n",
    "\n",
    "---\n",
    "\n",
    "## Zadanie 3 – Krytyka architektury medalionowej\n",
    "\n",
    "> Architektura Bronze → Silver → Gold ma wiele zalet, ale nie zawsze jest potrzebna.\n",
    "\n",
    "| #  | Krytyka                                 | Opis |\n",
    "|----|------------------------------------------|------|\n",
    "| 1  | Zbyt duża złożoność                      | Małe projekty nie potrzebują warstw. |\n",
    "| 2  | Wydłużony time-to-insight                | Opóźnienie dostępu do danych. |\n",
    "| 3  | Powielanie danych                        | Bronze, Silver i Gold to często duplikaty. |\n",
    "| 4  | Trudny debug                             | Dane są przekształcone – trudne w śledzeniu. |\n",
    "| 5  | Sztywność ETL                            | Pipeline są trudne do modyfikacji. |\n",
    "| 6  | Brak potrzeby normalizacji               | Dane płaskie nie wymagają wielu etapów. |\n",
    "| 7  | Duży nakład pracy                        | Więcej kodu, testów, dokumentacji. |\n",
    "| 8  | Wersjonowanie problematyczne             | Trzeba kontrolować wiele wersji danych. |\n",
    "| 9  | Zamieszanie zespołowe                    | Która warstwa zawiera właściwe dane? |\n",
    "| 10 | Błąd propaguje się do Gold               | Brak walidacji wcześniej = złoto z błędem. |\n",
    "| 11 | Nieprzyjazne ad-hoc BI                   | Dane nie są gotowe do szybkiej analizy. |\n",
    "| 12 | Brak standaryzacji                       | Inna definicja Bronze w każdym projekcie. |\n",
    "| 13 | Trudna migracja                          | Refaktoring wymaga zmiany każdej warstwy. |\n",
    "| 14 | Niepotrzebne przy batch-only             | Gdy nie ma streamów – zbędne. |\n",
    "| 15 | Trudna automatyzacja                     | Potrzeba ADF, Airflow, orchestration. |\n",
    "| 16 | Złożone zarządzanie uprawnieniami       | Różne warstwy = różne ACL. |\n",
    "| 17 | Problemy z CI/CD                         | Trudne testy transformacji. |\n",
    "| 18 | Nadmierna abstrakcja                     | Użytkownicy nie wiedzą co się dzieje. |\n",
    "| 19 | Wydajność                                | Niepotrzebne przetwarzanie dużych zbiorów. |\n",
    "| 20 | Trudny onboarding                        | Nowy użytkownik się gubi. |\n",
    "\n",
    "---\n",
    "\n"
   ]
  },
  {
   "cell_type": "code",
   "execution_count": null,
   "id": "7b9f8666",
   "metadata": {},
   "outputs": [
    {
     "name": "stdout",
     "output_type": "stream",
     "text": [
      "Done\n"
     ]
    }
   ],
   "source": [
    "print('Done')"
   ]
  }
 ],
 "metadata": {
  "kernelspec": {
   "display_name": "Python 3",
   "language": "python",
   "name": "python3"
  },
  "language_info": {
   "codemirror_mode": {
    "name": "ipython",
    "version": 3
   },
   "file_extension": ".py",
   "mimetype": "text/x-python",
   "name": "python",
   "nbconvert_exporter": "python",
   "pygments_lexer": "ipython3",
   "version": "3.11.8"
  }
 },
 "nbformat": 4,
 "nbformat_minor": 5
}
