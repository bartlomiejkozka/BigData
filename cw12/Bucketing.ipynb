{
 "cells": [
  {
   "cell_type": "code",
   "execution_count": 0,
   "metadata": {
    "application/vnd.databricks.v1+cell": {
     "cellMetadata": {
      "byteLimit": 2048000,
      "rowLimit": 10000
     },
     "inputWidgets": {},
     "nuid": "fbb71bc2-e515-435c-9d47-a04ee5b90d49",
     "showTitle": false,
     "tableResultSettingsMap": {},
     "title": ""
    }
   },
   "outputs": [
    {
     "name": "stdout",
     "output_type": "stream",
     "text": [
      "root\n",
      " |-- imdb_name_id: string (nullable = true)\n",
      " |-- name: string (nullable = true)\n",
      " |-- birth_name: string (nullable = true)\n",
      " |-- height: integer (nullable = true)\n",
      " |-- bio: string (nullable = true)\n",
      " |-- birth_details: string (nullable = true)\n",
      " |-- date_of_birth: string (nullable = true)\n",
      " |-- place_of_birth: string (nullable = true)\n",
      " |-- death_details: string (nullable = true)\n",
      " |-- date_of_death: string (nullable = true)\n",
      " |-- place_of_death: string (nullable = true)\n",
      " |-- reason_of_death: string (nullable = true)\n",
      " |-- spouses_string: string (nullable = true)\n",
      " |-- spouses: integer (nullable = true)\n",
      " |-- divorces: integer (nullable = true)\n",
      " |-- spouses_with_children: integer (nullable = true)\n",
      " |-- children: integer (nullable = true)\n",
      "\n"
     ]
    }
   ],
   "source": [
    "from pyspark.sql import SparkSession\n",
    "\n",
    "\n",
    "spark = SparkSession.builder.appName(\"Bucketing vs Partitioning\").getOrCreate()\n",
    "\n",
    "filePath = \"dbfs:/FileStore/tables/Files/names.csv\"\n",
    "\n",
    "df = spark.read.option(\"header\", \"true\").option(\"inferSchema\", \"true\").csv(filePath)\n",
    "df.printSchema()\n",
    "\n",
    "partitioned_path = \"/tmp/names_partitioned\"\n",
    "df.write.mode(\"overwrite\").partitionBy(\"place_of_birth\").parquet(partitioned_path)\n",
    "\n",
    "print(\"Partitioned table files:\")\n",
    "display(dbutils.fs.ls(partitioned_path))\n",
    "\n",
    "spark.conf.set(\"spark.sql.catalogImplementation\", \"hive\")\n",
    "spark.conf.set(\"spark.sql.legacy.allowCreatingManagedTableUsingNonemptyLocation\", \"true\")\n",
    "\n",
    "bucketed_table = \"names_bucketed\"\n",
    "\n",
    "df.write.mode(\"overwrite\") \\\n",
    "    .format(\"parquet\") \\\n",
    "    .bucketBy(4, \"place_of_birth\") \\\n",
    "    .sortBy(\"name\") \\\n",
    "    .saveAsTable(bucketed_table)\n",
    "\n",
    "bucketed_table_path = spark.sql(f\"DESCRIBE FORMATTED {bucketed_table}\") \\\n",
    "    .filter(\"col_name = 'Location'\") \\\n",
    "    .select(\"data_type\") \\\n",
    "    .collect()[0][0]\n",
    "\n",
    "print(\"Bucketed table files:\")\n",
    "display(dbutils.fs.ls(bucketed_table_path))\n"
   ]
  }
 ],
 "metadata": {
  "application/vnd.databricks.v1+notebook": {
   "computePreferences": null,
   "dashboards": [],
   "environmentMetadata": {
    "base_environment": "",
    "environment_version": "1"
   },
   "inputWidgetPreferences": null,
   "language": "python",
   "notebookMetadata": {
    "pythonIndentUnit": 4
   },
   "notebookName": "Bucketing",
   "widgets": {}
  },
  "language_info": {
   "name": "python"
  }
 },
 "nbformat": 4,
 "nbformat_minor": 0
}
