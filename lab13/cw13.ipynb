{
 "cells": [
  {
   "cell_type": "code",
   "execution_count": 0,
   "metadata": {
    "application/vnd.databricks.v1+cell": {
     "cellMetadata": {
      "byteLimit": 2048000,
      "rowLimit": 10000
     },
     "inputWidgets": {},
     "nuid": "2d5126a7-3492-4e0c-997c-d362defdcf87",
     "showTitle": false,
     "tableResultSettingsMap": {},
     "title": ""
    }
   },
   "outputs": [
    {
     "output_type": "display_data",
     "data": {
      "text/html": [
       "<style scoped>\n",
       "  .table-result-container {\n",
       "    max-height: 300px;\n",
       "    overflow: auto;\n",
       "  }\n",
       "  table, th, td {\n",
       "    border: 1px solid black;\n",
       "    border-collapse: collapse;\n",
       "  }\n",
       "  th, td {\n",
       "    padding: 5px;\n",
       "  }\n",
       "  th {\n",
       "    text-align: left;\n",
       "  }\n",
       "</style><div class='table-result-container'><table class='table-result'><thead style='background-color: white'><tr><th>path</th><th>name</th><th>size</th><th>modificationTime</th></tr></thead><tbody><tr><td>dbfs:/databricks-datasets/nyctaxi/tripdata/yellow/yellow_tripdata_2009-01.csv.gz</td><td>yellow_tripdata_2009-01.csv.gz</td><td>504262564</td><td>1590475761000</td></tr><tr><td>dbfs:/databricks-datasets/nyctaxi/tripdata/yellow/yellow_tripdata_2009-02.csv.gz</td><td>yellow_tripdata_2009-02.csv.gz</td><td>480034681</td><td>1590475761000</td></tr><tr><td>dbfs:/databricks-datasets/nyctaxi/tripdata/yellow/yellow_tripdata_2009-03.csv.gz</td><td>yellow_tripdata_2009-03.csv.gz</td><td>521102719</td><td>1590475761000</td></tr><tr><td>dbfs:/databricks-datasets/nyctaxi/tripdata/yellow/yellow_tripdata_2009-04.csv.gz</td><td>yellow_tripdata_2009-04.csv.gz</td><td>515435466</td><td>1590475761000</td></tr><tr><td>dbfs:/databricks-datasets/nyctaxi/tripdata/yellow/yellow_tripdata_2009-05.csv.gz</td><td>yellow_tripdata_2009-05.csv.gz</td><td>531133739</td><td>1590475761000</td></tr><tr><td>dbfs:/databricks-datasets/nyctaxi/tripdata/yellow/yellow_tripdata_2009-06.csv.gz</td><td>yellow_tripdata_2009-06.csv.gz</td><td>508802995</td><td>1590508850000</td></tr><tr><td>dbfs:/databricks-datasets/nyctaxi/tripdata/yellow/yellow_tripdata_2009-07.csv.gz</td><td>yellow_tripdata_2009-07.csv.gz</td><td>487731497</td><td>1590508850000</td></tr><tr><td>dbfs:/databricks-datasets/nyctaxi/tripdata/yellow/yellow_tripdata_2009-08.csv.gz</td><td>yellow_tripdata_2009-08.csv.gz</td><td>490825210</td><td>1590508850000</td></tr><tr><td>dbfs:/databricks-datasets/nyctaxi/tripdata/yellow/yellow_tripdata_2009-09.csv.gz</td><td>yellow_tripdata_2009-09.csv.gz</td><td>503121179</td><td>1590508850000</td></tr><tr><td>dbfs:/databricks-datasets/nyctaxi/tripdata/yellow/yellow_tripdata_2009-10.csv.gz</td><td>yellow_tripdata_2009-10.csv.gz</td><td>567109604</td><td>1590508850000</td></tr><tr><td>dbfs:/databricks-datasets/nyctaxi/tripdata/yellow/yellow_tripdata_2009-11.csv.gz</td><td>yellow_tripdata_2009-11.csv.gz</td><td>520260634</td><td>1590509194000</td></tr><tr><td>dbfs:/databricks-datasets/nyctaxi/tripdata/yellow/yellow_tripdata_2009-12.csv.gz</td><td>yellow_tripdata_2009-12.csv.gz</td><td>530726595</td><td>1590509195000</td></tr><tr><td>dbfs:/databricks-datasets/nyctaxi/tripdata/yellow/yellow_tripdata_2010-01.csv.gz</td><td>yellow_tripdata_2010-01.csv.gz</td><td>565548417</td><td>1590509195000</td></tr><tr><td>dbfs:/databricks-datasets/nyctaxi/tripdata/yellow/yellow_tripdata_2010-02.csv.gz</td><td>yellow_tripdata_2010-02.csv.gz</td><td>396576504</td><td>1590509211000</td></tr><tr><td>dbfs:/databricks-datasets/nyctaxi/tripdata/yellow/yellow_tripdata_2010-03.csv.gz</td><td>yellow_tripdata_2010-03.csv.gz</td><td>456086101</td><td>1590509246000</td></tr><tr><td>dbfs:/databricks-datasets/nyctaxi/tripdata/yellow/yellow_tripdata_2010-04.csv.gz</td><td>yellow_tripdata_2010-04.csv.gz</td><td>579400917</td><td>1590509507000</td></tr><tr><td>dbfs:/databricks-datasets/nyctaxi/tripdata/yellow/yellow_tripdata_2010-05.csv.gz</td><td>yellow_tripdata_2010-05.csv.gz</td><td>593525883</td><td>1590509556000</td></tr><tr><td>dbfs:/databricks-datasets/nyctaxi/tripdata/yellow/yellow_tripdata_2010-06.csv.gz</td><td>yellow_tripdata_2010-06.csv.gz</td><td>568228308</td><td>1590509559000</td></tr><tr><td>dbfs:/databricks-datasets/nyctaxi/tripdata/yellow/yellow_tripdata_2010-07.csv.gz</td><td>yellow_tripdata_2010-07.csv.gz</td><td>562093150</td><td>1590509578000</td></tr><tr><td>dbfs:/databricks-datasets/nyctaxi/tripdata/yellow/yellow_tripdata_2010-08.csv.gz</td><td>yellow_tripdata_2010-08.csv.gz</td><td>441394152</td><td>1590509580000</td></tr><tr><td>dbfs:/databricks-datasets/nyctaxi/tripdata/yellow/yellow_tripdata_2010-09.csv.gz</td><td>yellow_tripdata_2010-09.csv.gz</td><td>560174405</td><td>1590509894000</td></tr><tr><td>dbfs:/databricks-datasets/nyctaxi/tripdata/yellow/yellow_tripdata_2010-10.csv.gz</td><td>yellow_tripdata_2010-10.csv.gz</td><td>515205924</td><td>1590509913000</td></tr><tr><td>dbfs:/databricks-datasets/nyctaxi/tripdata/yellow/yellow_tripdata_2010-11.csv.gz</td><td>yellow_tripdata_2010-11.csv.gz</td><td>490723375</td><td>1590509940000</td></tr><tr><td>dbfs:/databricks-datasets/nyctaxi/tripdata/yellow/yellow_tripdata_2010-12.csv.gz</td><td>yellow_tripdata_2010-12.csv.gz</td><td>489442107</td><td>1590509972000</td></tr><tr><td>dbfs:/databricks-datasets/nyctaxi/tripdata/yellow/yellow_tripdata_2011-01.csv.gz</td><td>yellow_tripdata_2011-01.csv.gz</td><td>468994648</td><td>1590509976000</td></tr><tr><td>dbfs:/databricks-datasets/nyctaxi/tripdata/yellow/yellow_tripdata_2011-02.csv.gz</td><td>yellow_tripdata_2011-02.csv.gz</td><td>500480531</td><td>1590510276000</td></tr><tr><td>dbfs:/databricks-datasets/nyctaxi/tripdata/yellow/yellow_tripdata_2011-03.csv.gz</td><td>yellow_tripdata_2011-03.csv.gz</td><td>562171945</td><td>1590510276000</td></tr><tr><td>dbfs:/databricks-datasets/nyctaxi/tripdata/yellow/yellow_tripdata_2011-04.csv.gz</td><td>yellow_tripdata_2011-04.csv.gz</td><td>516464131</td><td>1590510276000</td></tr><tr><td>dbfs:/databricks-datasets/nyctaxi/tripdata/yellow/yellow_tripdata_2011-05.csv.gz</td><td>yellow_tripdata_2011-05.csv.gz</td><td>547466370</td><td>1590510315000</td></tr><tr><td>dbfs:/databricks-datasets/nyctaxi/tripdata/yellow/yellow_tripdata_2011-06.csv.gz</td><td>yellow_tripdata_2011-06.csv.gz</td><td>533561250</td><td>1590510326000</td></tr><tr><td>dbfs:/databricks-datasets/nyctaxi/tripdata/yellow/yellow_tripdata_2011-07.csv.gz</td><td>yellow_tripdata_2011-07.csv.gz</td><td>511667361</td><td>1590510642000</td></tr><tr><td>dbfs:/databricks-datasets/nyctaxi/tripdata/yellow/yellow_tripdata_2011-08.csv.gz</td><td>yellow_tripdata_2011-08.csv.gz</td><td>479496009</td><td>1590510653000</td></tr><tr><td>dbfs:/databricks-datasets/nyctaxi/tripdata/yellow/yellow_tripdata_2011-09.csv.gz</td><td>yellow_tripdata_2011-09.csv.gz</td><td>519067867</td><td>1590512900000</td></tr><tr><td>dbfs:/databricks-datasets/nyctaxi/tripdata/yellow/yellow_tripdata_2011-10.csv.gz</td><td>yellow_tripdata_2011-10.csv.gz</td><td>555546037</td><td>1590512900000</td></tr><tr><td>dbfs:/databricks-datasets/nyctaxi/tripdata/yellow/yellow_tripdata_2011-11.csv.gz</td><td>yellow_tripdata_2011-11.csv.gz</td><td>505934258</td><td>1590512900000</td></tr><tr><td>dbfs:/databricks-datasets/nyctaxi/tripdata/yellow/yellow_tripdata_2011-12.csv.gz</td><td>yellow_tripdata_2011-12.csv.gz</td><td>521194284</td><td>1590512900000</td></tr><tr><td>dbfs:/databricks-datasets/nyctaxi/tripdata/yellow/yellow_tripdata_2012-01.csv.gz</td><td>yellow_tripdata_2012-01.csv.gz</td><td>542699629</td><td>1590512900000</td></tr><tr><td>dbfs:/databricks-datasets/nyctaxi/tripdata/yellow/yellow_tripdata_2012-02.csv.gz</td><td>yellow_tripdata_2012-02.csv.gz</td><td>538161783</td><td>1590513191000</td></tr><tr><td>dbfs:/databricks-datasets/nyctaxi/tripdata/yellow/yellow_tripdata_2012-03.csv.gz</td><td>yellow_tripdata_2012-03.csv.gz</td><td>577176001</td><td>1590513204000</td></tr><tr><td>dbfs:/databricks-datasets/nyctaxi/tripdata/yellow/yellow_tripdata_2012-04.csv.gz</td><td>yellow_tripdata_2012-04.csv.gz</td><td>543801972</td><td>1590513207000</td></tr><tr><td>dbfs:/databricks-datasets/nyctaxi/tripdata/yellow/yellow_tripdata_2012-05.csv.gz</td><td>yellow_tripdata_2012-05.csv.gz</td><td>549759424</td><td>1590513250000</td></tr><tr><td>dbfs:/databricks-datasets/nyctaxi/tripdata/yellow/yellow_tripdata_2012-06.csv.gz</td><td>yellow_tripdata_2012-06.csv.gz</td><td>536119707</td><td>1590513265000</td></tr><tr><td>dbfs:/databricks-datasets/nyctaxi/tripdata/yellow/yellow_tripdata_2012-07.csv.gz</td><td>yellow_tripdata_2012-07.csv.gz</td><td>509555120</td><td>1590513444000</td></tr><tr><td>dbfs:/databricks-datasets/nyctaxi/tripdata/yellow/yellow_tripdata_2012-08.csv.gz</td><td>yellow_tripdata_2012-08.csv.gz</td><td>511483352</td><td>1590513459000</td></tr><tr><td>dbfs:/databricks-datasets/nyctaxi/tripdata/yellow/yellow_tripdata_2012-09.csv.gz</td><td>yellow_tripdata_2012-09.csv.gz</td><td>459381547</td><td>1590513459000</td></tr><tr><td>dbfs:/databricks-datasets/nyctaxi/tripdata/yellow/yellow_tripdata_2012-10.csv.gz</td><td>yellow_tripdata_2012-10.csv.gz</td><td>468143217</td><td>1590513492000</td></tr><tr><td>dbfs:/databricks-datasets/nyctaxi/tripdata/yellow/yellow_tripdata_2012-11.csv.gz</td><td>yellow_tripdata_2012-11.csv.gz</td><td>443832708</td><td>1590513506000</td></tr><tr><td>dbfs:/databricks-datasets/nyctaxi/tripdata/yellow/yellow_tripdata_2012-12.csv.gz</td><td>yellow_tripdata_2012-12.csv.gz</td><td>493139441</td><td>1590513691000</td></tr><tr><td>dbfs:/databricks-datasets/nyctaxi/tripdata/yellow/yellow_tripdata_2013-01.csv.gz</td><td>yellow_tripdata_2013-01.csv.gz</td><td>478262343</td><td>1590513693000</td></tr><tr><td>dbfs:/databricks-datasets/nyctaxi/tripdata/yellow/yellow_tripdata_2013-02.csv.gz</td><td>yellow_tripdata_2013-02.csv.gz</td><td>451683985</td><td>1590513709000</td></tr><tr><td>dbfs:/databricks-datasets/nyctaxi/tripdata/yellow/yellow_tripdata_2013-03.csv.gz</td><td>yellow_tripdata_2013-03.csv.gz</td><td>516448368</td><td>1590513716000</td></tr><tr><td>dbfs:/databricks-datasets/nyctaxi/tripdata/yellow/yellow_tripdata_2013-04.csv.gz</td><td>yellow_tripdata_2013-04.csv.gz</td><td>500106589</td><td>1590513723000</td></tr><tr><td>dbfs:/databricks-datasets/nyctaxi/tripdata/yellow/yellow_tripdata_2013-05.csv.gz</td><td>yellow_tripdata_2013-05.csv.gz</td><td>493978775</td><td>1590513917000</td></tr><tr><td>dbfs:/databricks-datasets/nyctaxi/tripdata/yellow/yellow_tripdata_2013-06.csv.gz</td><td>yellow_tripdata_2013-06.csv.gz</td><td>472703135</td><td>1590513918000</td></tr><tr><td>dbfs:/databricks-datasets/nyctaxi/tripdata/yellow/yellow_tripdata_2013-07.csv.gz</td><td>yellow_tripdata_2013-07.csv.gz</td><td>450013796</td><td>1590513920000</td></tr><tr><td>dbfs:/databricks-datasets/nyctaxi/tripdata/yellow/yellow_tripdata_2013-08.csv.gz</td><td>yellow_tripdata_2013-08.csv.gz</td><td>421885789</td><td>1590513958000</td></tr><tr><td>dbfs:/databricks-datasets/nyctaxi/tripdata/yellow/yellow_tripdata_2013-09.csv.gz</td><td>yellow_tripdata_2013-09.csv.gz</td><td>481546619</td><td>1590513960000</td></tr><tr><td>dbfs:/databricks-datasets/nyctaxi/tripdata/yellow/yellow_tripdata_2013-10.csv.gz</td><td>yellow_tripdata_2013-10.csv.gz</td><td>500785608</td><td>1590514149000</td></tr><tr><td>dbfs:/databricks-datasets/nyctaxi/tripdata/yellow/yellow_tripdata_2013-11.csv.gz</td><td>yellow_tripdata_2013-11.csv.gz</td><td>481124327</td><td>1590514152000</td></tr><tr><td>dbfs:/databricks-datasets/nyctaxi/tripdata/yellow/yellow_tripdata_2013-12.csv.gz</td><td>yellow_tripdata_2013-12.csv.gz</td><td>459830158</td><td>1590514152000</td></tr><tr><td>dbfs:/databricks-datasets/nyctaxi/tripdata/yellow/yellow_tripdata_2014-01.csv.gz</td><td>yellow_tripdata_2014-01.csv.gz</td><td>445284946</td><td>1590514169000</td></tr><tr><td>dbfs:/databricks-datasets/nyctaxi/tripdata/yellow/yellow_tripdata_2014-02.csv.gz</td><td>yellow_tripdata_2014-02.csv.gz</td><td>427962052</td><td>1590514199000</td></tr><tr><td>dbfs:/databricks-datasets/nyctaxi/tripdata/yellow/yellow_tripdata_2014-03.csv.gz</td><td>yellow_tripdata_2014-03.csv.gz</td><td>512115757</td><td>1590514382000</td></tr><tr><td>dbfs:/databricks-datasets/nyctaxi/tripdata/yellow/yellow_tripdata_2014-04.csv.gz</td><td>yellow_tripdata_2014-04.csv.gz</td><td>475749569</td><td>1590514383000</td></tr><tr><td>dbfs:/databricks-datasets/nyctaxi/tripdata/yellow/yellow_tripdata_2014-05.csv.gz</td><td>yellow_tripdata_2014-05.csv.gz</td><td>485741383</td><td>1590514386000</td></tr><tr><td>dbfs:/databricks-datasets/nyctaxi/tripdata/yellow/yellow_tripdata_2014-06.csv.gz</td><td>yellow_tripdata_2014-06.csv.gz</td><td>456035000</td><td>1590514388000</td></tr><tr><td>dbfs:/databricks-datasets/nyctaxi/tripdata/yellow/yellow_tripdata_2014-07.csv.gz</td><td>yellow_tripdata_2014-07.csv.gz</td><td>425991155</td><td>1590514408000</td></tr><tr><td>dbfs:/databricks-datasets/nyctaxi/tripdata/yellow/yellow_tripdata_2014-08.csv.gz</td><td>yellow_tripdata_2014-08.csv.gz</td><td>419345164</td><td>1590514622000</td></tr><tr><td>dbfs:/databricks-datasets/nyctaxi/tripdata/yellow/yellow_tripdata_2014-09.csv.gz</td><td>yellow_tripdata_2014-09.csv.gz</td><td>443182114</td><td>1590514623000</td></tr><tr><td>dbfs:/databricks-datasets/nyctaxi/tripdata/yellow/yellow_tripdata_2014-10.csv.gz</td><td>yellow_tripdata_2014-10.csv.gz</td><td>466041865</td><td>1590514628000</td></tr><tr><td>dbfs:/databricks-datasets/nyctaxi/tripdata/yellow/yellow_tripdata_2014-11.csv.gz</td><td>yellow_tripdata_2014-11.csv.gz</td><td>437336437</td><td>1590514629000</td></tr><tr><td>dbfs:/databricks-datasets/nyctaxi/tripdata/yellow/yellow_tripdata_2014-12.csv.gz</td><td>yellow_tripdata_2014-12.csv.gz</td><td>431611778</td><td>1590514636000</td></tr><tr><td>dbfs:/databricks-datasets/nyctaxi/tripdata/yellow/yellow_tripdata_2015-01.csv.gz</td><td>yellow_tripdata_2015-01.csv.gz</td><td>510982711</td><td>1590514821000</td></tr><tr><td>dbfs:/databricks-datasets/nyctaxi/tripdata/yellow/yellow_tripdata_2015-02.csv.gz</td><td>yellow_tripdata_2015-02.csv.gz</td><td>498934977</td><td>1590514834000</td></tr><tr><td>dbfs:/databricks-datasets/nyctaxi/tripdata/yellow/yellow_tripdata_2015-03.csv.gz</td><td>yellow_tripdata_2015-03.csv.gz</td><td>536626429</td><td>1590514838000</td></tr><tr><td>dbfs:/databricks-datasets/nyctaxi/tripdata/yellow/yellow_tripdata_2015-04.csv.gz</td><td>yellow_tripdata_2015-04.csv.gz</td><td>526278868</td><td>1590514844000</td></tr><tr><td>dbfs:/databricks-datasets/nyctaxi/tripdata/yellow/yellow_tripdata_2015-05.csv.gz</td><td>yellow_tripdata_2015-05.csv.gz</td><td>528674128</td><td>1590514845000</td></tr><tr><td>dbfs:/databricks-datasets/nyctaxi/tripdata/yellow/yellow_tripdata_2015-06.csv.gz</td><td>yellow_tripdata_2015-06.csv.gz</td><td>484887977</td><td>1590515081000</td></tr><tr><td>dbfs:/databricks-datasets/nyctaxi/tripdata/yellow/yellow_tripdata_2015-07.csv.gz</td><td>yellow_tripdata_2015-07.csv.gz</td><td>448653527</td><td>1590515089000</td></tr><tr><td>dbfs:/databricks-datasets/nyctaxi/tripdata/yellow/yellow_tripdata_2015-08.csv.gz</td><td>yellow_tripdata_2015-08.csv.gz</td><td>432743918</td><td>1590515109000</td></tr><tr><td>dbfs:/databricks-datasets/nyctaxi/tripdata/yellow/yellow_tripdata_2015-09.csv.gz</td><td>yellow_tripdata_2015-09.csv.gz</td><td>436791892</td><td>1590515113000</td></tr><tr><td>dbfs:/databricks-datasets/nyctaxi/tripdata/yellow/yellow_tripdata_2015-10.csv.gz</td><td>yellow_tripdata_2015-10.csv.gz</td><td>478620813</td><td>1590515124000</td></tr><tr><td>dbfs:/databricks-datasets/nyctaxi/tripdata/yellow/yellow_tripdata_2015-11.csv.gz</td><td>yellow_tripdata_2015-11.csv.gz</td><td>439257795</td><td>1590515319000</td></tr><tr><td>dbfs:/databricks-datasets/nyctaxi/tripdata/yellow/yellow_tripdata_2015-12.csv.gz</td><td>yellow_tripdata_2015-12.csv.gz</td><td>445153178</td><td>1590515326000</td></tr><tr><td>dbfs:/databricks-datasets/nyctaxi/tripdata/yellow/yellow_tripdata_2016-01.csv.gz</td><td>yellow_tripdata_2016-01.csv.gz</td><td>421734912</td><td>1590515327000</td></tr><tr><td>dbfs:/databricks-datasets/nyctaxi/tripdata/yellow/yellow_tripdata_2016-02.csv.gz</td><td>yellow_tripdata_2016-02.csv.gz</td><td>439029046</td><td>1590515334000</td></tr><tr><td>dbfs:/databricks-datasets/nyctaxi/tripdata/yellow/yellow_tripdata_2016-03.csv.gz</td><td>yellow_tripdata_2016-03.csv.gz</td><td>472243929</td><td>1590515365000</td></tr><tr><td>dbfs:/databricks-datasets/nyctaxi/tripdata/yellow/yellow_tripdata_2016-04.csv.gz</td><td>yellow_tripdata_2016-04.csv.gz</td><td>463706594</td><td>1590515506000</td></tr><tr><td>dbfs:/databricks-datasets/nyctaxi/tripdata/yellow/yellow_tripdata_2016-05.csv.gz</td><td>yellow_tripdata_2016-05.csv.gz</td><td>463046642</td><td>1590515510000</td></tr><tr><td>dbfs:/databricks-datasets/nyctaxi/tripdata/yellow/yellow_tripdata_2016-06.csv.gz</td><td>yellow_tripdata_2016-06.csv.gz</td><td>435640067</td><td>1590515515000</td></tr><tr><td>dbfs:/databricks-datasets/nyctaxi/tripdata/yellow/yellow_tripdata_2016-07.csv.gz</td><td>yellow_tripdata_2016-07.csv.gz</td><td>155772486</td><td>1590515517000</td></tr><tr><td>dbfs:/databricks-datasets/nyctaxi/tripdata/yellow/yellow_tripdata_2016-08.csv.gz</td><td>yellow_tripdata_2016-08.csv.gz</td><td>149189301</td><td>1590515553000</td></tr><tr><td>dbfs:/databricks-datasets/nyctaxi/tripdata/yellow/yellow_tripdata_2016-09.csv.gz</td><td>yellow_tripdata_2016-09.csv.gz</td><td>154436403</td><td>1590515582000</td></tr><tr><td>dbfs:/databricks-datasets/nyctaxi/tripdata/yellow/yellow_tripdata_2016-10.csv.gz</td><td>yellow_tripdata_2016-10.csv.gz</td><td>164098675</td><td>1590515614000</td></tr><tr><td>dbfs:/databricks-datasets/nyctaxi/tripdata/yellow/yellow_tripdata_2016-11.csv.gz</td><td>yellow_tripdata_2016-11.csv.gz</td><td>152816358</td><td>1590515646000</td></tr><tr><td>dbfs:/databricks-datasets/nyctaxi/tripdata/yellow/yellow_tripdata_2016-12.csv.gz</td><td>yellow_tripdata_2016-12.csv.gz</td><td>157413907</td><td>1590515679000</td></tr><tr><td>dbfs:/databricks-datasets/nyctaxi/tripdata/yellow/yellow_tripdata_2017-01.csv.gz</td><td>yellow_tripdata_2017-01.csv.gz</td><td>144492027</td><td>1590515679000</td></tr><tr><td>dbfs:/databricks-datasets/nyctaxi/tripdata/yellow/yellow_tripdata_2017-02.csv.gz</td><td>yellow_tripdata_2017-02.csv.gz</td><td>136659107</td><td>1590515679000</td></tr><tr><td>dbfs:/databricks-datasets/nyctaxi/tripdata/yellow/yellow_tripdata_2017-03.csv.gz</td><td>yellow_tripdata_2017-03.csv.gz</td><td>154604320</td><td>1590515681000</td></tr><tr><td>dbfs:/databricks-datasets/nyctaxi/tripdata/yellow/yellow_tripdata_2017-04.csv.gz</td><td>yellow_tripdata_2017-04.csv.gz</td><td>150995632</td><td>1590515707000</td></tr><tr><td>dbfs:/databricks-datasets/nyctaxi/tripdata/yellow/yellow_tripdata_2017-05.csv.gz</td><td>yellow_tripdata_2017-05.csv.gz</td><td>152513179</td><td>1590515741000</td></tr><tr><td>dbfs:/databricks-datasets/nyctaxi/tripdata/yellow/yellow_tripdata_2017-06.csv.gz</td><td>yellow_tripdata_2017-06.csv.gz</td><td>144967379</td><td>1590515741000</td></tr><tr><td>dbfs:/databricks-datasets/nyctaxi/tripdata/yellow/yellow_tripdata_2017-07.csv.gz</td><td>yellow_tripdata_2017-07.csv.gz</td><td>141141934</td><td>1590515743000</td></tr><tr><td>dbfs:/databricks-datasets/nyctaxi/tripdata/yellow/yellow_tripdata_2017-08.csv.gz</td><td>yellow_tripdata_2017-08.csv.gz</td><td>138415411</td><td>1590515747000</td></tr><tr><td>dbfs:/databricks-datasets/nyctaxi/tripdata/yellow/yellow_tripdata_2017-09.csv.gz</td><td>yellow_tripdata_2017-09.csv.gz</td><td>147622574</td><td>1590515778000</td></tr><tr><td>dbfs:/databricks-datasets/nyctaxi/tripdata/yellow/yellow_tripdata_2017-10.csv.gz</td><td>yellow_tripdata_2017-10.csv.gz</td><td>160943166</td><td>1590515808000</td></tr><tr><td>dbfs:/databricks-datasets/nyctaxi/tripdata/yellow/yellow_tripdata_2017-11.csv.gz</td><td>yellow_tripdata_2017-11.csv.gz</td><td>152770049</td><td>1590515809000</td></tr><tr><td>dbfs:/databricks-datasets/nyctaxi/tripdata/yellow/yellow_tripdata_2017-12.csv.gz</td><td>yellow_tripdata_2017-12.csv.gz</td><td>156184671</td><td>1590515809000</td></tr><tr><td>dbfs:/databricks-datasets/nyctaxi/tripdata/yellow/yellow_tripdata_2018-01.csv.gz</td><td>yellow_tripdata_2018-01.csv.gz</td><td>143211519</td><td>1590515811000</td></tr><tr><td>dbfs:/databricks-datasets/nyctaxi/tripdata/yellow/yellow_tripdata_2018-02.csv.gz</td><td>yellow_tripdata_2018-02.csv.gz</td><td>139062994</td><td>1590515845000</td></tr><tr><td>dbfs:/databricks-datasets/nyctaxi/tripdata/yellow/yellow_tripdata_2018-03.csv.gz</td><td>yellow_tripdata_2018-03.csv.gz</td><td>155108281</td><td>1590515882000</td></tr><tr><td>dbfs:/databricks-datasets/nyctaxi/tripdata/yellow/yellow_tripdata_2018-04.csv.gz</td><td>yellow_tripdata_2018-04.csv.gz</td><td>153504004</td><td>1590515882000</td></tr><tr><td>dbfs:/databricks-datasets/nyctaxi/tripdata/yellow/yellow_tripdata_2018-05.csv.gz</td><td>yellow_tripdata_2018-05.csv.gz</td><td>152775398</td><td>1590515882000</td></tr><tr><td>dbfs:/databricks-datasets/nyctaxi/tripdata/yellow/yellow_tripdata_2018-06.csv.gz</td><td>yellow_tripdata_2018-06.csv.gz</td><td>144377468</td><td>1590515882000</td></tr><tr><td>dbfs:/databricks-datasets/nyctaxi/tripdata/yellow/yellow_tripdata_2018-07.csv.gz</td><td>yellow_tripdata_2018-07.csv.gz</td><td>129810520</td><td>1590515920000</td></tr><tr><td>dbfs:/databricks-datasets/nyctaxi/tripdata/yellow/yellow_tripdata_2018-08.csv.gz</td><td>yellow_tripdata_2018-08.csv.gz</td><td>129874126</td><td>1590515982000</td></tr><tr><td>dbfs:/databricks-datasets/nyctaxi/tripdata/yellow/yellow_tripdata_2018-09.csv.gz</td><td>yellow_tripdata_2018-09.csv.gz</td><td>133683366</td><td>1590515983000</td></tr><tr><td>dbfs:/databricks-datasets/nyctaxi/tripdata/yellow/yellow_tripdata_2018-10.csv.gz</td><td>yellow_tripdata_2018-10.csv.gz</td><td>146678859</td><td>1590515983000</td></tr><tr><td>dbfs:/databricks-datasets/nyctaxi/tripdata/yellow/yellow_tripdata_2018-11.csv.gz</td><td>yellow_tripdata_2018-11.csv.gz</td><td>135364951</td><td>1590515983000</td></tr><tr><td>dbfs:/databricks-datasets/nyctaxi/tripdata/yellow/yellow_tripdata_2018-12.csv.gz</td><td>yellow_tripdata_2018-12.csv.gz</td><td>135612832</td><td>1590516007000</td></tr><tr><td>dbfs:/databricks-datasets/nyctaxi/tripdata/yellow/yellow_tripdata_2019-01.csv.gz</td><td>yellow_tripdata_2019-01.csv.gz</td><td>126896536</td><td>1590516079000</td></tr><tr><td>dbfs:/databricks-datasets/nyctaxi/tripdata/yellow/yellow_tripdata_2019-02.csv.gz</td><td>yellow_tripdata_2019-02.csv.gz</td><td>121172953</td><td>1590516079000</td></tr><tr><td>dbfs:/databricks-datasets/nyctaxi/tripdata/yellow/yellow_tripdata_2019-03.csv.gz</td><td>yellow_tripdata_2019-03.csv.gz</td><td>135816827</td><td>1590516087000</td></tr><tr><td>dbfs:/databricks-datasets/nyctaxi/tripdata/yellow/yellow_tripdata_2019-04.csv.gz</td><td>yellow_tripdata_2019-04.csv.gz</td><td>128774049</td><td>1590516089000</td></tr><tr><td>dbfs:/databricks-datasets/nyctaxi/tripdata/yellow/yellow_tripdata_2019-05.csv.gz</td><td>yellow_tripdata_2019-05.csv.gz</td><td>131394988</td><td>1590516117000</td></tr><tr><td>dbfs:/databricks-datasets/nyctaxi/tripdata/yellow/yellow_tripdata_2019-06.csv.gz</td><td>yellow_tripdata_2019-06.csv.gz</td><td>120767491</td><td>1590516175000</td></tr><tr><td>dbfs:/databricks-datasets/nyctaxi/tripdata/yellow/yellow_tripdata_2019-07.csv.gz</td><td>yellow_tripdata_2019-07.csv.gz</td><td>109579693</td><td>1590516176000</td></tr><tr><td>dbfs:/databricks-datasets/nyctaxi/tripdata/yellow/yellow_tripdata_2019-08.csv.gz</td><td>yellow_tripdata_2019-08.csv.gz</td><td>105492899</td><td>1590516186000</td></tr><tr><td>dbfs:/databricks-datasets/nyctaxi/tripdata/yellow/yellow_tripdata_2019-09.csv.gz</td><td>yellow_tripdata_2019-09.csv.gz</td><td>114297190</td><td>1590516186000</td></tr><tr><td>dbfs:/databricks-datasets/nyctaxi/tripdata/yellow/yellow_tripdata_2019-10.csv.gz</td><td>yellow_tripdata_2019-10.csv.gz</td><td>125220156</td><td>1590516214000</td></tr><tr><td>dbfs:/databricks-datasets/nyctaxi/tripdata/yellow/yellow_tripdata_2019-11.csv.gz</td><td>yellow_tripdata_2019-11.csv.gz</td><td>119085913</td><td>1590516262000</td></tr><tr><td>dbfs:/databricks-datasets/nyctaxi/tripdata/yellow/yellow_tripdata_2019-12.csv.gz</td><td>yellow_tripdata_2019-12.csv.gz</td><td>119637211</td><td>1590516263000</td></tr></tbody></table></div>"
      ]
     },
     "metadata": {
      "application/vnd.databricks.v1+output": {
       "addedWidgets": {},
       "aggData": [],
       "aggError": "",
       "aggOverflow": false,
       "aggSchema": [],
       "aggSeriesLimitReached": false,
       "aggType": "",
       "arguments": {},
       "columnCustomDisplayInfos": {},
       "data": [
        [
         "dbfs:/databricks-datasets/nyctaxi/tripdata/yellow/yellow_tripdata_2009-01.csv.gz",
         "yellow_tripdata_2009-01.csv.gz",
         504262564,
         1590475761000
        ],
        [
         "dbfs:/databricks-datasets/nyctaxi/tripdata/yellow/yellow_tripdata_2009-02.csv.gz",
         "yellow_tripdata_2009-02.csv.gz",
         480034681,
         1590475761000
        ],
        [
         "dbfs:/databricks-datasets/nyctaxi/tripdata/yellow/yellow_tripdata_2009-03.csv.gz",
         "yellow_tripdata_2009-03.csv.gz",
         521102719,
         1590475761000
        ],
        [
         "dbfs:/databricks-datasets/nyctaxi/tripdata/yellow/yellow_tripdata_2009-04.csv.gz",
         "yellow_tripdata_2009-04.csv.gz",
         515435466,
         1590475761000
        ],
        [
         "dbfs:/databricks-datasets/nyctaxi/tripdata/yellow/yellow_tripdata_2009-05.csv.gz",
         "yellow_tripdata_2009-05.csv.gz",
         531133739,
         1590475761000
        ],
        [
         "dbfs:/databricks-datasets/nyctaxi/tripdata/yellow/yellow_tripdata_2009-06.csv.gz",
         "yellow_tripdata_2009-06.csv.gz",
         508802995,
         1590508850000
        ],
        [
         "dbfs:/databricks-datasets/nyctaxi/tripdata/yellow/yellow_tripdata_2009-07.csv.gz",
         "yellow_tripdata_2009-07.csv.gz",
         487731497,
         1590508850000
        ],
        [
         "dbfs:/databricks-datasets/nyctaxi/tripdata/yellow/yellow_tripdata_2009-08.csv.gz",
         "yellow_tripdata_2009-08.csv.gz",
         490825210,
         1590508850000
        ],
        [
         "dbfs:/databricks-datasets/nyctaxi/tripdata/yellow/yellow_tripdata_2009-09.csv.gz",
         "yellow_tripdata_2009-09.csv.gz",
         503121179,
         1590508850000
        ],
        [
         "dbfs:/databricks-datasets/nyctaxi/tripdata/yellow/yellow_tripdata_2009-10.csv.gz",
         "yellow_tripdata_2009-10.csv.gz",
         567109604,
         1590508850000
        ],
        [
         "dbfs:/databricks-datasets/nyctaxi/tripdata/yellow/yellow_tripdata_2009-11.csv.gz",
         "yellow_tripdata_2009-11.csv.gz",
         520260634,
         1590509194000
        ],
        [
         "dbfs:/databricks-datasets/nyctaxi/tripdata/yellow/yellow_tripdata_2009-12.csv.gz",
         "yellow_tripdata_2009-12.csv.gz",
         530726595,
         1590509195000
        ],
        [
         "dbfs:/databricks-datasets/nyctaxi/tripdata/yellow/yellow_tripdata_2010-01.csv.gz",
         "yellow_tripdata_2010-01.csv.gz",
         565548417,
         1590509195000
        ],
        [
         "dbfs:/databricks-datasets/nyctaxi/tripdata/yellow/yellow_tripdata_2010-02.csv.gz",
         "yellow_tripdata_2010-02.csv.gz",
         396576504,
         1590509211000
        ],
        [
         "dbfs:/databricks-datasets/nyctaxi/tripdata/yellow/yellow_tripdata_2010-03.csv.gz",
         "yellow_tripdata_2010-03.csv.gz",
         456086101,
         1590509246000
        ],
        [
         "dbfs:/databricks-datasets/nyctaxi/tripdata/yellow/yellow_tripdata_2010-04.csv.gz",
         "yellow_tripdata_2010-04.csv.gz",
         579400917,
         1590509507000
        ],
        [
         "dbfs:/databricks-datasets/nyctaxi/tripdata/yellow/yellow_tripdata_2010-05.csv.gz",
         "yellow_tripdata_2010-05.csv.gz",
         593525883,
         1590509556000
        ],
        [
         "dbfs:/databricks-datasets/nyctaxi/tripdata/yellow/yellow_tripdata_2010-06.csv.gz",
         "yellow_tripdata_2010-06.csv.gz",
         568228308,
         1590509559000
        ],
        [
         "dbfs:/databricks-datasets/nyctaxi/tripdata/yellow/yellow_tripdata_2010-07.csv.gz",
         "yellow_tripdata_2010-07.csv.gz",
         562093150,
         1590509578000
        ],
        [
         "dbfs:/databricks-datasets/nyctaxi/tripdata/yellow/yellow_tripdata_2010-08.csv.gz",
         "yellow_tripdata_2010-08.csv.gz",
         441394152,
         1590509580000
        ],
        [
         "dbfs:/databricks-datasets/nyctaxi/tripdata/yellow/yellow_tripdata_2010-09.csv.gz",
         "yellow_tripdata_2010-09.csv.gz",
         560174405,
         1590509894000
        ],
        [
         "dbfs:/databricks-datasets/nyctaxi/tripdata/yellow/yellow_tripdata_2010-10.csv.gz",
         "yellow_tripdata_2010-10.csv.gz",
         515205924,
         1590509913000
        ],
        [
         "dbfs:/databricks-datasets/nyctaxi/tripdata/yellow/yellow_tripdata_2010-11.csv.gz",
         "yellow_tripdata_2010-11.csv.gz",
         490723375,
         1590509940000
        ],
        [
         "dbfs:/databricks-datasets/nyctaxi/tripdata/yellow/yellow_tripdata_2010-12.csv.gz",
         "yellow_tripdata_2010-12.csv.gz",
         489442107,
         1590509972000
        ],
        [
         "dbfs:/databricks-datasets/nyctaxi/tripdata/yellow/yellow_tripdata_2011-01.csv.gz",
         "yellow_tripdata_2011-01.csv.gz",
         468994648,
         1590509976000
        ],
        [
         "dbfs:/databricks-datasets/nyctaxi/tripdata/yellow/yellow_tripdata_2011-02.csv.gz",
         "yellow_tripdata_2011-02.csv.gz",
         500480531,
         1590510276000
        ],
        [
         "dbfs:/databricks-datasets/nyctaxi/tripdata/yellow/yellow_tripdata_2011-03.csv.gz",
         "yellow_tripdata_2011-03.csv.gz",
         562171945,
         1590510276000
        ],
        [
         "dbfs:/databricks-datasets/nyctaxi/tripdata/yellow/yellow_tripdata_2011-04.csv.gz",
         "yellow_tripdata_2011-04.csv.gz",
         516464131,
         1590510276000
        ],
        [
         "dbfs:/databricks-datasets/nyctaxi/tripdata/yellow/yellow_tripdata_2011-05.csv.gz",
         "yellow_tripdata_2011-05.csv.gz",
         547466370,
         1590510315000
        ],
        [
         "dbfs:/databricks-datasets/nyctaxi/tripdata/yellow/yellow_tripdata_2011-06.csv.gz",
         "yellow_tripdata_2011-06.csv.gz",
         533561250,
         1590510326000
        ],
        [
         "dbfs:/databricks-datasets/nyctaxi/tripdata/yellow/yellow_tripdata_2011-07.csv.gz",
         "yellow_tripdata_2011-07.csv.gz",
         511667361,
         1590510642000
        ],
        [
         "dbfs:/databricks-datasets/nyctaxi/tripdata/yellow/yellow_tripdata_2011-08.csv.gz",
         "yellow_tripdata_2011-08.csv.gz",
         479496009,
         1590510653000
        ],
        [
         "dbfs:/databricks-datasets/nyctaxi/tripdata/yellow/yellow_tripdata_2011-09.csv.gz",
         "yellow_tripdata_2011-09.csv.gz",
         519067867,
         1590512900000
        ],
        [
         "dbfs:/databricks-datasets/nyctaxi/tripdata/yellow/yellow_tripdata_2011-10.csv.gz",
         "yellow_tripdata_2011-10.csv.gz",
         555546037,
         1590512900000
        ],
        [
         "dbfs:/databricks-datasets/nyctaxi/tripdata/yellow/yellow_tripdata_2011-11.csv.gz",
         "yellow_tripdata_2011-11.csv.gz",
         505934258,
         1590512900000
        ],
        [
         "dbfs:/databricks-datasets/nyctaxi/tripdata/yellow/yellow_tripdata_2011-12.csv.gz",
         "yellow_tripdata_2011-12.csv.gz",
         521194284,
         1590512900000
        ],
        [
         "dbfs:/databricks-datasets/nyctaxi/tripdata/yellow/yellow_tripdata_2012-01.csv.gz",
         "yellow_tripdata_2012-01.csv.gz",
         542699629,
         1590512900000
        ],
        [
         "dbfs:/databricks-datasets/nyctaxi/tripdata/yellow/yellow_tripdata_2012-02.csv.gz",
         "yellow_tripdata_2012-02.csv.gz",
         538161783,
         1590513191000
        ],
        [
         "dbfs:/databricks-datasets/nyctaxi/tripdata/yellow/yellow_tripdata_2012-03.csv.gz",
         "yellow_tripdata_2012-03.csv.gz",
         577176001,
         1590513204000
        ],
        [
         "dbfs:/databricks-datasets/nyctaxi/tripdata/yellow/yellow_tripdata_2012-04.csv.gz",
         "yellow_tripdata_2012-04.csv.gz",
         543801972,
         1590513207000
        ],
        [
         "dbfs:/databricks-datasets/nyctaxi/tripdata/yellow/yellow_tripdata_2012-05.csv.gz",
         "yellow_tripdata_2012-05.csv.gz",
         549759424,
         1590513250000
        ],
        [
         "dbfs:/databricks-datasets/nyctaxi/tripdata/yellow/yellow_tripdata_2012-06.csv.gz",
         "yellow_tripdata_2012-06.csv.gz",
         536119707,
         1590513265000
        ],
        [
         "dbfs:/databricks-datasets/nyctaxi/tripdata/yellow/yellow_tripdata_2012-07.csv.gz",
         "yellow_tripdata_2012-07.csv.gz",
         509555120,
         1590513444000
        ],
        [
         "dbfs:/databricks-datasets/nyctaxi/tripdata/yellow/yellow_tripdata_2012-08.csv.gz",
         "yellow_tripdata_2012-08.csv.gz",
         511483352,
         1590513459000
        ],
        [
         "dbfs:/databricks-datasets/nyctaxi/tripdata/yellow/yellow_tripdata_2012-09.csv.gz",
         "yellow_tripdata_2012-09.csv.gz",
         459381547,
         1590513459000
        ],
        [
         "dbfs:/databricks-datasets/nyctaxi/tripdata/yellow/yellow_tripdata_2012-10.csv.gz",
         "yellow_tripdata_2012-10.csv.gz",
         468143217,
         1590513492000
        ],
        [
         "dbfs:/databricks-datasets/nyctaxi/tripdata/yellow/yellow_tripdata_2012-11.csv.gz",
         "yellow_tripdata_2012-11.csv.gz",
         443832708,
         1590513506000
        ],
        [
         "dbfs:/databricks-datasets/nyctaxi/tripdata/yellow/yellow_tripdata_2012-12.csv.gz",
         "yellow_tripdata_2012-12.csv.gz",
         493139441,
         1590513691000
        ],
        [
         "dbfs:/databricks-datasets/nyctaxi/tripdata/yellow/yellow_tripdata_2013-01.csv.gz",
         "yellow_tripdata_2013-01.csv.gz",
         478262343,
         1590513693000
        ],
        [
         "dbfs:/databricks-datasets/nyctaxi/tripdata/yellow/yellow_tripdata_2013-02.csv.gz",
         "yellow_tripdata_2013-02.csv.gz",
         451683985,
         1590513709000
        ],
        [
         "dbfs:/databricks-datasets/nyctaxi/tripdata/yellow/yellow_tripdata_2013-03.csv.gz",
         "yellow_tripdata_2013-03.csv.gz",
         516448368,
         1590513716000
        ],
        [
         "dbfs:/databricks-datasets/nyctaxi/tripdata/yellow/yellow_tripdata_2013-04.csv.gz",
         "yellow_tripdata_2013-04.csv.gz",
         500106589,
         1590513723000
        ],
        [
         "dbfs:/databricks-datasets/nyctaxi/tripdata/yellow/yellow_tripdata_2013-05.csv.gz",
         "yellow_tripdata_2013-05.csv.gz",
         493978775,
         1590513917000
        ],
        [
         "dbfs:/databricks-datasets/nyctaxi/tripdata/yellow/yellow_tripdata_2013-06.csv.gz",
         "yellow_tripdata_2013-06.csv.gz",
         472703135,
         1590513918000
        ],
        [
         "dbfs:/databricks-datasets/nyctaxi/tripdata/yellow/yellow_tripdata_2013-07.csv.gz",
         "yellow_tripdata_2013-07.csv.gz",
         450013796,
         1590513920000
        ],
        [
         "dbfs:/databricks-datasets/nyctaxi/tripdata/yellow/yellow_tripdata_2013-08.csv.gz",
         "yellow_tripdata_2013-08.csv.gz",
         421885789,
         1590513958000
        ],
        [
         "dbfs:/databricks-datasets/nyctaxi/tripdata/yellow/yellow_tripdata_2013-09.csv.gz",
         "yellow_tripdata_2013-09.csv.gz",
         481546619,
         1590513960000
        ],
        [
         "dbfs:/databricks-datasets/nyctaxi/tripdata/yellow/yellow_tripdata_2013-10.csv.gz",
         "yellow_tripdata_2013-10.csv.gz",
         500785608,
         1590514149000
        ],
        [
         "dbfs:/databricks-datasets/nyctaxi/tripdata/yellow/yellow_tripdata_2013-11.csv.gz",
         "yellow_tripdata_2013-11.csv.gz",
         481124327,
         1590514152000
        ],
        [
         "dbfs:/databricks-datasets/nyctaxi/tripdata/yellow/yellow_tripdata_2013-12.csv.gz",
         "yellow_tripdata_2013-12.csv.gz",
         459830158,
         1590514152000
        ],
        [
         "dbfs:/databricks-datasets/nyctaxi/tripdata/yellow/yellow_tripdata_2014-01.csv.gz",
         "yellow_tripdata_2014-01.csv.gz",
         445284946,
         1590514169000
        ],
        [
         "dbfs:/databricks-datasets/nyctaxi/tripdata/yellow/yellow_tripdata_2014-02.csv.gz",
         "yellow_tripdata_2014-02.csv.gz",
         427962052,
         1590514199000
        ],
        [
         "dbfs:/databricks-datasets/nyctaxi/tripdata/yellow/yellow_tripdata_2014-03.csv.gz",
         "yellow_tripdata_2014-03.csv.gz",
         512115757,
         1590514382000
        ],
        [
         "dbfs:/databricks-datasets/nyctaxi/tripdata/yellow/yellow_tripdata_2014-04.csv.gz",
         "yellow_tripdata_2014-04.csv.gz",
         475749569,
         1590514383000
        ],
        [
         "dbfs:/databricks-datasets/nyctaxi/tripdata/yellow/yellow_tripdata_2014-05.csv.gz",
         "yellow_tripdata_2014-05.csv.gz",
         485741383,
         1590514386000
        ],
        [
         "dbfs:/databricks-datasets/nyctaxi/tripdata/yellow/yellow_tripdata_2014-06.csv.gz",
         "yellow_tripdata_2014-06.csv.gz",
         456035000,
         1590514388000
        ],
        [
         "dbfs:/databricks-datasets/nyctaxi/tripdata/yellow/yellow_tripdata_2014-07.csv.gz",
         "yellow_tripdata_2014-07.csv.gz",
         425991155,
         1590514408000
        ],
        [
         "dbfs:/databricks-datasets/nyctaxi/tripdata/yellow/yellow_tripdata_2014-08.csv.gz",
         "yellow_tripdata_2014-08.csv.gz",
         419345164,
         1590514622000
        ],
        [
         "dbfs:/databricks-datasets/nyctaxi/tripdata/yellow/yellow_tripdata_2014-09.csv.gz",
         "yellow_tripdata_2014-09.csv.gz",
         443182114,
         1590514623000
        ],
        [
         "dbfs:/databricks-datasets/nyctaxi/tripdata/yellow/yellow_tripdata_2014-10.csv.gz",
         "yellow_tripdata_2014-10.csv.gz",
         466041865,
         1590514628000
        ],
        [
         "dbfs:/databricks-datasets/nyctaxi/tripdata/yellow/yellow_tripdata_2014-11.csv.gz",
         "yellow_tripdata_2014-11.csv.gz",
         437336437,
         1590514629000
        ],
        [
         "dbfs:/databricks-datasets/nyctaxi/tripdata/yellow/yellow_tripdata_2014-12.csv.gz",
         "yellow_tripdata_2014-12.csv.gz",
         431611778,
         1590514636000
        ],
        [
         "dbfs:/databricks-datasets/nyctaxi/tripdata/yellow/yellow_tripdata_2015-01.csv.gz",
         "yellow_tripdata_2015-01.csv.gz",
         510982711,
         1590514821000
        ],
        [
         "dbfs:/databricks-datasets/nyctaxi/tripdata/yellow/yellow_tripdata_2015-02.csv.gz",
         "yellow_tripdata_2015-02.csv.gz",
         498934977,
         1590514834000
        ],
        [
         "dbfs:/databricks-datasets/nyctaxi/tripdata/yellow/yellow_tripdata_2015-03.csv.gz",
         "yellow_tripdata_2015-03.csv.gz",
         536626429,
         1590514838000
        ],
        [
         "dbfs:/databricks-datasets/nyctaxi/tripdata/yellow/yellow_tripdata_2015-04.csv.gz",
         "yellow_tripdata_2015-04.csv.gz",
         526278868,
         1590514844000
        ],
        [
         "dbfs:/databricks-datasets/nyctaxi/tripdata/yellow/yellow_tripdata_2015-05.csv.gz",
         "yellow_tripdata_2015-05.csv.gz",
         528674128,
         1590514845000
        ],
        [
         "dbfs:/databricks-datasets/nyctaxi/tripdata/yellow/yellow_tripdata_2015-06.csv.gz",
         "yellow_tripdata_2015-06.csv.gz",
         484887977,
         1590515081000
        ],
        [
         "dbfs:/databricks-datasets/nyctaxi/tripdata/yellow/yellow_tripdata_2015-07.csv.gz",
         "yellow_tripdata_2015-07.csv.gz",
         448653527,
         1590515089000
        ],
        [
         "dbfs:/databricks-datasets/nyctaxi/tripdata/yellow/yellow_tripdata_2015-08.csv.gz",
         "yellow_tripdata_2015-08.csv.gz",
         432743918,
         1590515109000
        ],
        [
         "dbfs:/databricks-datasets/nyctaxi/tripdata/yellow/yellow_tripdata_2015-09.csv.gz",
         "yellow_tripdata_2015-09.csv.gz",
         436791892,
         1590515113000
        ],
        [
         "dbfs:/databricks-datasets/nyctaxi/tripdata/yellow/yellow_tripdata_2015-10.csv.gz",
         "yellow_tripdata_2015-10.csv.gz",
         478620813,
         1590515124000
        ],
        [
         "dbfs:/databricks-datasets/nyctaxi/tripdata/yellow/yellow_tripdata_2015-11.csv.gz",
         "yellow_tripdata_2015-11.csv.gz",
         439257795,
         1590515319000
        ],
        [
         "dbfs:/databricks-datasets/nyctaxi/tripdata/yellow/yellow_tripdata_2015-12.csv.gz",
         "yellow_tripdata_2015-12.csv.gz",
         445153178,
         1590515326000
        ],
        [
         "dbfs:/databricks-datasets/nyctaxi/tripdata/yellow/yellow_tripdata_2016-01.csv.gz",
         "yellow_tripdata_2016-01.csv.gz",
         421734912,
         1590515327000
        ],
        [
         "dbfs:/databricks-datasets/nyctaxi/tripdata/yellow/yellow_tripdata_2016-02.csv.gz",
         "yellow_tripdata_2016-02.csv.gz",
         439029046,
         1590515334000
        ],
        [
         "dbfs:/databricks-datasets/nyctaxi/tripdata/yellow/yellow_tripdata_2016-03.csv.gz",
         "yellow_tripdata_2016-03.csv.gz",
         472243929,
         1590515365000
        ],
        [
         "dbfs:/databricks-datasets/nyctaxi/tripdata/yellow/yellow_tripdata_2016-04.csv.gz",
         "yellow_tripdata_2016-04.csv.gz",
         463706594,
         1590515506000
        ],
        [
         "dbfs:/databricks-datasets/nyctaxi/tripdata/yellow/yellow_tripdata_2016-05.csv.gz",
         "yellow_tripdata_2016-05.csv.gz",
         463046642,
         1590515510000
        ],
        [
         "dbfs:/databricks-datasets/nyctaxi/tripdata/yellow/yellow_tripdata_2016-06.csv.gz",
         "yellow_tripdata_2016-06.csv.gz",
         435640067,
         1590515515000
        ],
        [
         "dbfs:/databricks-datasets/nyctaxi/tripdata/yellow/yellow_tripdata_2016-07.csv.gz",
         "yellow_tripdata_2016-07.csv.gz",
         155772486,
         1590515517000
        ],
        [
         "dbfs:/databricks-datasets/nyctaxi/tripdata/yellow/yellow_tripdata_2016-08.csv.gz",
         "yellow_tripdata_2016-08.csv.gz",
         149189301,
         1590515553000
        ],
        [
         "dbfs:/databricks-datasets/nyctaxi/tripdata/yellow/yellow_tripdata_2016-09.csv.gz",
         "yellow_tripdata_2016-09.csv.gz",
         154436403,
         1590515582000
        ],
        [
         "dbfs:/databricks-datasets/nyctaxi/tripdata/yellow/yellow_tripdata_2016-10.csv.gz",
         "yellow_tripdata_2016-10.csv.gz",
         164098675,
         1590515614000
        ],
        [
         "dbfs:/databricks-datasets/nyctaxi/tripdata/yellow/yellow_tripdata_2016-11.csv.gz",
         "yellow_tripdata_2016-11.csv.gz",
         152816358,
         1590515646000
        ],
        [
         "dbfs:/databricks-datasets/nyctaxi/tripdata/yellow/yellow_tripdata_2016-12.csv.gz",
         "yellow_tripdata_2016-12.csv.gz",
         157413907,
         1590515679000
        ],
        [
         "dbfs:/databricks-datasets/nyctaxi/tripdata/yellow/yellow_tripdata_2017-01.csv.gz",
         "yellow_tripdata_2017-01.csv.gz",
         144492027,
         1590515679000
        ],
        [
         "dbfs:/databricks-datasets/nyctaxi/tripdata/yellow/yellow_tripdata_2017-02.csv.gz",
         "yellow_tripdata_2017-02.csv.gz",
         136659107,
         1590515679000
        ],
        [
         "dbfs:/databricks-datasets/nyctaxi/tripdata/yellow/yellow_tripdata_2017-03.csv.gz",
         "yellow_tripdata_2017-03.csv.gz",
         154604320,
         1590515681000
        ],
        [
         "dbfs:/databricks-datasets/nyctaxi/tripdata/yellow/yellow_tripdata_2017-04.csv.gz",
         "yellow_tripdata_2017-04.csv.gz",
         150995632,
         1590515707000
        ],
        [
         "dbfs:/databricks-datasets/nyctaxi/tripdata/yellow/yellow_tripdata_2017-05.csv.gz",
         "yellow_tripdata_2017-05.csv.gz",
         152513179,
         1590515741000
        ],
        [
         "dbfs:/databricks-datasets/nyctaxi/tripdata/yellow/yellow_tripdata_2017-06.csv.gz",
         "yellow_tripdata_2017-06.csv.gz",
         144967379,
         1590515741000
        ],
        [
         "dbfs:/databricks-datasets/nyctaxi/tripdata/yellow/yellow_tripdata_2017-07.csv.gz",
         "yellow_tripdata_2017-07.csv.gz",
         141141934,
         1590515743000
        ],
        [
         "dbfs:/databricks-datasets/nyctaxi/tripdata/yellow/yellow_tripdata_2017-08.csv.gz",
         "yellow_tripdata_2017-08.csv.gz",
         138415411,
         1590515747000
        ],
        [
         "dbfs:/databricks-datasets/nyctaxi/tripdata/yellow/yellow_tripdata_2017-09.csv.gz",
         "yellow_tripdata_2017-09.csv.gz",
         147622574,
         1590515778000
        ],
        [
         "dbfs:/databricks-datasets/nyctaxi/tripdata/yellow/yellow_tripdata_2017-10.csv.gz",
         "yellow_tripdata_2017-10.csv.gz",
         160943166,
         1590515808000
        ],
        [
         "dbfs:/databricks-datasets/nyctaxi/tripdata/yellow/yellow_tripdata_2017-11.csv.gz",
         "yellow_tripdata_2017-11.csv.gz",
         152770049,
         1590515809000
        ],
        [
         "dbfs:/databricks-datasets/nyctaxi/tripdata/yellow/yellow_tripdata_2017-12.csv.gz",
         "yellow_tripdata_2017-12.csv.gz",
         156184671,
         1590515809000
        ],
        [
         "dbfs:/databricks-datasets/nyctaxi/tripdata/yellow/yellow_tripdata_2018-01.csv.gz",
         "yellow_tripdata_2018-01.csv.gz",
         143211519,
         1590515811000
        ],
        [
         "dbfs:/databricks-datasets/nyctaxi/tripdata/yellow/yellow_tripdata_2018-02.csv.gz",
         "yellow_tripdata_2018-02.csv.gz",
         139062994,
         1590515845000
        ],
        [
         "dbfs:/databricks-datasets/nyctaxi/tripdata/yellow/yellow_tripdata_2018-03.csv.gz",
         "yellow_tripdata_2018-03.csv.gz",
         155108281,
         1590515882000
        ],
        [
         "dbfs:/databricks-datasets/nyctaxi/tripdata/yellow/yellow_tripdata_2018-04.csv.gz",
         "yellow_tripdata_2018-04.csv.gz",
         153504004,
         1590515882000
        ],
        [
         "dbfs:/databricks-datasets/nyctaxi/tripdata/yellow/yellow_tripdata_2018-05.csv.gz",
         "yellow_tripdata_2018-05.csv.gz",
         152775398,
         1590515882000
        ],
        [
         "dbfs:/databricks-datasets/nyctaxi/tripdata/yellow/yellow_tripdata_2018-06.csv.gz",
         "yellow_tripdata_2018-06.csv.gz",
         144377468,
         1590515882000
        ],
        [
         "dbfs:/databricks-datasets/nyctaxi/tripdata/yellow/yellow_tripdata_2018-07.csv.gz",
         "yellow_tripdata_2018-07.csv.gz",
         129810520,
         1590515920000
        ],
        [
         "dbfs:/databricks-datasets/nyctaxi/tripdata/yellow/yellow_tripdata_2018-08.csv.gz",
         "yellow_tripdata_2018-08.csv.gz",
         129874126,
         1590515982000
        ],
        [
         "dbfs:/databricks-datasets/nyctaxi/tripdata/yellow/yellow_tripdata_2018-09.csv.gz",
         "yellow_tripdata_2018-09.csv.gz",
         133683366,
         1590515983000
        ],
        [
         "dbfs:/databricks-datasets/nyctaxi/tripdata/yellow/yellow_tripdata_2018-10.csv.gz",
         "yellow_tripdata_2018-10.csv.gz",
         146678859,
         1590515983000
        ],
        [
         "dbfs:/databricks-datasets/nyctaxi/tripdata/yellow/yellow_tripdata_2018-11.csv.gz",
         "yellow_tripdata_2018-11.csv.gz",
         135364951,
         1590515983000
        ],
        [
         "dbfs:/databricks-datasets/nyctaxi/tripdata/yellow/yellow_tripdata_2018-12.csv.gz",
         "yellow_tripdata_2018-12.csv.gz",
         135612832,
         1590516007000
        ],
        [
         "dbfs:/databricks-datasets/nyctaxi/tripdata/yellow/yellow_tripdata_2019-01.csv.gz",
         "yellow_tripdata_2019-01.csv.gz",
         126896536,
         1590516079000
        ],
        [
         "dbfs:/databricks-datasets/nyctaxi/tripdata/yellow/yellow_tripdata_2019-02.csv.gz",
         "yellow_tripdata_2019-02.csv.gz",
         121172953,
         1590516079000
        ],
        [
         "dbfs:/databricks-datasets/nyctaxi/tripdata/yellow/yellow_tripdata_2019-03.csv.gz",
         "yellow_tripdata_2019-03.csv.gz",
         135816827,
         1590516087000
        ],
        [
         "dbfs:/databricks-datasets/nyctaxi/tripdata/yellow/yellow_tripdata_2019-04.csv.gz",
         "yellow_tripdata_2019-04.csv.gz",
         128774049,
         1590516089000
        ],
        [
         "dbfs:/databricks-datasets/nyctaxi/tripdata/yellow/yellow_tripdata_2019-05.csv.gz",
         "yellow_tripdata_2019-05.csv.gz",
         131394988,
         1590516117000
        ],
        [
         "dbfs:/databricks-datasets/nyctaxi/tripdata/yellow/yellow_tripdata_2019-06.csv.gz",
         "yellow_tripdata_2019-06.csv.gz",
         120767491,
         1590516175000
        ],
        [
         "dbfs:/databricks-datasets/nyctaxi/tripdata/yellow/yellow_tripdata_2019-07.csv.gz",
         "yellow_tripdata_2019-07.csv.gz",
         109579693,
         1590516176000
        ],
        [
         "dbfs:/databricks-datasets/nyctaxi/tripdata/yellow/yellow_tripdata_2019-08.csv.gz",
         "yellow_tripdata_2019-08.csv.gz",
         105492899,
         1590516186000
        ],
        [
         "dbfs:/databricks-datasets/nyctaxi/tripdata/yellow/yellow_tripdata_2019-09.csv.gz",
         "yellow_tripdata_2019-09.csv.gz",
         114297190,
         1590516186000
        ],
        [
         "dbfs:/databricks-datasets/nyctaxi/tripdata/yellow/yellow_tripdata_2019-10.csv.gz",
         "yellow_tripdata_2019-10.csv.gz",
         125220156,
         1590516214000
        ],
        [
         "dbfs:/databricks-datasets/nyctaxi/tripdata/yellow/yellow_tripdata_2019-11.csv.gz",
         "yellow_tripdata_2019-11.csv.gz",
         119085913,
         1590516262000
        ],
        [
         "dbfs:/databricks-datasets/nyctaxi/tripdata/yellow/yellow_tripdata_2019-12.csv.gz",
         "yellow_tripdata_2019-12.csv.gz",
         119637211,
         1590516263000
        ]
       ],
       "datasetInfos": [],
       "dbfsResultPath": null,
       "isJsonSchema": true,
       "metadata": {},
       "overflow": false,
       "plotOptions": {
        "customPlotOptions": {},
        "displayType": "table",
        "pivotAggregation": null,
        "pivotColumns": null,
        "xColumns": null,
        "yColumns": null
       },
       "removedWidgets": [],
       "schema": [
        {
         "metadata": "{}",
         "name": "path",
         "type": "\"string\""
        },
        {
         "metadata": "{}",
         "name": "name",
         "type": "\"string\""
        },
        {
         "metadata": "{}",
         "name": "size",
         "type": "\"long\""
        },
        {
         "metadata": "{}",
         "name": "modificationTime",
         "type": "\"long\""
        }
       ],
       "type": "table"
      }
     },
     "output_type": "display_data"
    }
   ],
   "source": [
    "%fs ls dbfs:/databricks-datasets/nyctaxi/tripdata/yellow/"
   ]
  },
  {
   "cell_type": "code",
   "execution_count": 0,
   "metadata": {
    "application/vnd.databricks.v1+cell": {
     "cellMetadata": {
      "byteLimit": 2048000,
      "rowLimit": 10000
     },
     "inputWidgets": {},
     "nuid": "118e7030-541c-4954-887d-310555c70c85",
     "showTitle": false,
     "tableResultSettingsMap": {},
     "title": ""
    }
   },
   "outputs": [
    {
     "output_type": "stream",
     "name": "stdout",
     "output_type": "stream",
     "text": [
      "Python interpreter will be restarted.\nCollecting apache-sedona==1.4.1\n  Downloading apache_sedona-1.4.1-cp39-cp39-manylinux_2_17_x86_64.manylinux2014_x86_64.whl (146 kB)\nRequirement already satisfied: attrs in /databricks/python3/lib/python3.9/site-packages (from apache-sedona==1.4.1) (21.4.0)\nCollecting shapely>=1.7.0\n  Downloading shapely-2.0.7-cp39-cp39-manylinux_2_17_x86_64.manylinux2014_x86_64.whl (2.5 MB)\nRequirement already satisfied: numpy<3,>=1.14 in /databricks/python3/lib/python3.9/site-packages (from shapely>=1.7.0->apache-sedona==1.4.1) (1.21.5)\nInstalling collected packages: shapely, apache-sedona\nSuccessfully installed apache-sedona-1.4.1 shapely-2.0.7\nPython interpreter will be restarted.\n"
     ]
    }
   ],
   "source": [
    "%pip install apache-sedona==1.4.1\n"
   ]
  },
  {
   "cell_type": "code",
   "execution_count": 0,
   "metadata": {
    "application/vnd.databricks.v1+cell": {
     "cellMetadata": {
      "byteLimit": 2048000,
      "rowLimit": 10000
     },
     "inputWidgets": {},
     "nuid": "343654d0-96ca-4435-82db-9e17c071e0ad",
     "showTitle": false,
     "tableResultSettingsMap": {},
     "title": ""
    }
   },
   "outputs": [
    {
     "output_type": "stream",
     "name": "stdout",
     "output_type": "stream",
     "text": [
      "mkdir: cannot create directory ‘/Workspace/Shared’: Invalid argument\n  % Total    % Received % Xferd  Average Speed   Time    Time     Time  Current\n                                 Dload  Upload   Total   Spent    Left  Speed\n\n  0     0    0     0    0     0      0      0 --:--:-- --:--:-- --:--:--     0Warning: Failed to create the file \nWarning: /Workspace/Shared/sedona/1.7.2/geotools-wrapper-1.7.2-28.5.jar: No \nWarning: such file or directory\n\n  0 28.5M    0  1370    0     0  22833      0  0:21:52 --:--:--  0:21:52 22833\ncurl: (23) Failed writing body (0 != 1370)\n  % Total    % Received % Xferd  Average Speed   Time    Time     Time  Current\n                                 Dload  Upload   Total   Spent    Left  Speed\n\n  0     0    0     0    0     0      0      0 --:--:-- --:--:-- --:--:--     0Warning: Failed to create the file \nWarning: /Workspace/Shared/sedona/1.7.2/sedona-spark-shaded-3.5_2.12-1.7.2.jar:\nWarning:  No such file or directory\n\n  0 33.1M    0 16375    0     0   235k      0  0:02:24 --:--:--  0:02:24  235k\ncurl: (23) Failed writing body (0 != 16375)\n"
     ]
    }
   ],
   "source": [
    "%sh\n",
    "# Create JAR directory for Sedona\n",
    "mkdir -p /Workspace/Shared/sedona/1.7.2\n",
    "\n",
    "# Download the dependencies from Maven into DBFS\n",
    "curl -o /Workspace/Shared/sedona/1.7.2/geotools-wrapper-1.7.2-28.5.jar \"https://repo1.maven.org/maven2/org/datasyslab/geotools-wrapper/1.7.2-28.5/geotools-wrapper-1.7.2-28.5.jar\"\n",
    "\n",
    "curl -o /Workspace/Shared/sedona/1.7.2/sedona-spark-shaded-3.5_2.12-1.7.2.jar \"https://repo1.maven.org/maven2/org/apache/sedona/sedona-spark-shaded-3.5_2.12/1.7.2/sedona-spark-shaded-3.5_2.12-1.7.2.jar\""
   ]
  },
  {
   "cell_type": "code",
   "execution_count": 0,
   "metadata": {
    "application/vnd.databricks.v1+cell": {
     "cellMetadata": {
      "byteLimit": 2048000,
      "rowLimit": 10000
     },
     "inputWidgets": {},
     "nuid": "7ff412a1-9309-413a-a8a6-d8f4f9853eb4",
     "showTitle": false,
     "tableResultSettingsMap": {},
     "title": ""
    }
   },
   "outputs": [
    {
     "output_type": "stream",
     "name": "stdout",
     "output_type": "stream",
     "text": [
      "mkdir: cannot create directory ‘/Workspace/Shared’: Invalid argument\n/bin/bash: line 4: /Workspace/Shared/sedona/sedona-init.sh: No such file or directory\n"
     ]
    }
   ],
   "source": [
    "%sh\n",
    "\n",
    "# Create init script directory for Sedona\n",
    "mkdir -p /Workspace/Shared/sedona/\n",
    "\n",
    "# Create init script\n",
    "cat > /Workspace/Shared/sedona/sedona-init.sh <<'EOF'\n",
    "#!/bin/bash\n",
    "#\n",
    "# File: sedona-init.sh\n",
    "#\n",
    "# On cluster startup, this script will copy the Sedona jars to the cluster's default jar directory.\n",
    "\n",
    "cp /Workspace/Shared/sedona/1.7.2/*.jar /databricks/jars\n",
    "\n",
    "EOF"
   ]
  },
  {
   "cell_type": "code",
   "execution_count": 0,
   "metadata": {
    "application/vnd.databricks.v1+cell": {
     "cellMetadata": {},
     "inputWidgets": {},
     "nuid": "f74b69b6-78d4-4e3c-9a54-3b929860025e",
     "showTitle": false,
     "tableResultSettingsMap": {},
     "title": ""
    }
   },
   "outputs": [],
   "source": [
    "from sedona.spark import SedonaContext\n",
    "from sedona.register import SedonaRegistrator\n",
    "\n",
    "SedonaContext.create(spark)\n",
    "SedonaRegistrator.registerAll(spark)\n",
    "\n",
    "file_path = \"/dbfs/databricks-datasets/nyctaxi/tripdata/yellow/yellow_tripdata_2009-01.csv.gz\"\n",
    "\n",
    "df = spark.read.option(\"header\", True).csv(file_path)\n",
    "df = df.selectExpr(\n",
    "    \"CAST(pickup_longitude AS DOUBLE) AS pickup_lon\",\n",
    "    \"CAST(pickup_latitude AS DOUBLE) AS pickup_lat\",\n",
    "    \"CAST(dropoff_longitude AS DOUBLE) AS dropoff_lon\",\n",
    "    \"CAST(dropoff_latitude AS DOUBLE) AS dropoff_lat\"\n",
    ").dropna().limit(10000)\n",
    "\n",
    "df.createOrReplaceTempView(\"taxi\")\n",
    "\n",
    "spark.sql(\"\"\"\n",
    "    CREATE OR REPLACE TEMP VIEW taxi_geom AS\n",
    "    SELECT \n",
    "        ST_Point(pickup_lon, pickup_lat) AS pickup_point,\n",
    "        ST_Point(dropoff_lon, dropoff_lat) AS dropoff_point\n",
    "    FROM taxi\n",
    "\"\"\")\n",
    "\n",
    "polygon_wkt = \"POLYGON((-74.01 40.70, -73.93 40.70, -73.93 40.80, -74.01 40.80, -74.01 40.70))\"\n",
    "spark.sql(f\"CREATE OR REPLACE TEMP VIEW manhattan AS SELECT ST_GeomFromText('{polygon_wkt}') AS area\")\n",
    "\n",
    "spark.sql(\"\"\"\n",
    "    SELECT ST_Distance(pickup_point, dropoff_point) AS trip_distance\n",
    "    FROM taxi_geom\n",
    "\"\"\").show(5)\n",
    "\n",
    "spark.sql(\"\"\"\n",
    "    SELECT \n",
    "        ST_Contains(area, pickup_point) AS inside_manhattan\n",
    "    FROM taxi_geom\n",
    "    CROSS JOIN manhattan\n",
    "\"\"\").show(5)\n",
    "\n",
    "spark.sql(\"\"\"\n",
    "    SELECT \n",
    "        ST_Within(pickup_point, area) AS pickup_within\n",
    "    FROM taxi_geom\n",
    "    CROSS JOIN manhattan\n",
    "\"\"\").show(5)\n",
    "\n",
    "spark.sql(\"\"\"\n",
    "    SELECT \n",
    "        ST_Intersects(ST_LineString(pickup_point, dropoff_point), area) AS intersects_manhattan\n",
    "    FROM taxi_geom\n",
    "    CROSS JOIN manhattan\n",
    "\"\"\").show(5)\n",
    "\n",
    "spark.sql(\"SELECT ST_Area(area) AS polygon_area FROM manhattan\").show()\n"
   ]
  }
 ],
 "metadata": {
  "application/vnd.databricks.v1+notebook": {
   "computePreferences": null,
   "dashboards": [],
   "environmentMetadata": {
    "base_environment": "",
    "environment_version": "1"
   },
   "inputWidgetPreferences": null,
   "language": "python",
   "notebookMetadata": {
    "mostRecentlyExecutedCommandWithImplicitDF": {
     "commandId": 3380443563081929,
     "dataframes": [
      "_sqldf"
     ]
    },
    "pythonIndentUnit": 4
   },
   "notebookName": "cw13",
   "widgets": {}
  }
 },
 "nbformat": 4,
 "nbformat_minor": 0
}